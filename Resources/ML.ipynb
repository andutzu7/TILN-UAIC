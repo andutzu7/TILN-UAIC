{
 "cells": [
  {
   "cell_type": "markdown",
   "metadata": {},
   "source": [
    "# Importing the modules"
   ]
  },
  {
   "cell_type": "code",
   "execution_count": 78,
   "metadata": {},
   "outputs": [],
   "source": [
    "import itertools\n",
    "import pandas as pd\n",
    "import numpy as np\n",
    "from sklearn.naive_bayes import GaussianNB\n",
    "from sklearn import tree\n",
    "from sklearn.preprocessing import OneHotEncoder\n",
    "from sklearn.pipeline import Pipeline\n",
    "from sklearn.linear_model import LogisticRegression\n",
    "from sklearn.ensemble import RandomForestClassifier\n",
    "from sklearn.model_selection import GridSearchCV\n",
    "from sklearn.feature_extraction.text import CountVectorizer\n",
    "from sklearn.linear_model import PassiveAggressiveClassifier\n",
    "from sklearn.model_selection import train_test_split\n",
    "from sklearn.feature_extraction.text import TfidfVectorizer\n",
    "from sklearn.metrics import accuracy_score,ConfusionMatrixDisplay\n",
    "from sklearn.metrics import confusion_matrix,plot_confusion_matrix\n",
    "import matplotlib.pyplot as plt"
   ]
  },
  {
   "cell_type": "markdown",
   "metadata": {},
   "source": [
    "# Loading the data"
   ]
  },
  {
   "cell_type": "code",
   "execution_count": 51,
   "metadata": {},
   "outputs": [],
   "source": [
    "df=pd.read_csv('./corpus_complet.tsv',delimiter='\\t')"
   ]
  },
  {
   "cell_type": "code",
   "execution_count": 52,
   "metadata": {},
   "outputs": [
    {
     "data": {
      "text/plain": [
       "(1427, 6)"
      ]
     },
     "execution_count": 52,
     "metadata": {},
     "output_type": "execute_result"
    }
   ],
   "source": [
    "df.shape"
   ]
  },
  {
   "cell_type": "code",
   "execution_count": 53,
   "metadata": {},
   "outputs": [
    {
     "data": {
      "text/html": [
       "<div>\n",
       "<style scoped>\n",
       "    .dataframe tbody tr th:only-of-type {\n",
       "        vertical-align: middle;\n",
       "    }\n",
       "\n",
       "    .dataframe tbody tr th {\n",
       "        vertical-align: top;\n",
       "    }\n",
       "\n",
       "    .dataframe thead th {\n",
       "        text-align: right;\n",
       "    }\n",
       "</style>\n",
       "<table border=\"1\" class=\"dataframe\">\n",
       "  <thead>\n",
       "    <tr style=\"text-align: right;\">\n",
       "      <th></th>\n",
       "      <th>url</th>\n",
       "      <th>title</th>\n",
       "      <th>body</th>\n",
       "      <th>preprocessed body</th>\n",
       "      <th>keywords</th>\n",
       "      <th>authenticity</th>\n",
       "    </tr>\n",
       "  </thead>\n",
       "  <tbody>\n",
       "    <tr>\n",
       "      <th>0</th>\n",
       "      <td>https://www.timesnewroman.ro/life-death/au-inc...</td>\n",
       "      <td>Au început programările la vaccinare. 10 probl...</td>\n",
       "      <td>• Pentru că programările se fac în ordinea alf...</td>\n",
       "      <td>începe programare vaccinare problemă din prima...</td>\n",
       "      <td>pentru, programările, ordinea, alfabetică, jud...</td>\n",
       "      <td>FAKE</td>\n",
       "    </tr>\n",
       "    <tr>\n",
       "      <th>1</th>\n",
       "      <td>https://www.timesnewroman.ro/monden/canibalii-...</td>\n",
       "      <td>Canibalii misogini din Mediaş susţin că locul ...</td>\n",
       "      <td>Scandal în Mediaș, după ce un respectat caniba...</td>\n",
       "      <td>canibal misogin mediaș susține loc femeie crat...</td>\n",
       "      <td>scandal, mediaș, după, respectat, canibal, loc...</td>\n",
       "      <td>FAKE</td>\n",
       "    </tr>\n",
       "    <tr>\n",
       "      <th>2</th>\n",
       "      <td>https://www.timesnewroman.ro/monden/nea-costel...</td>\n",
       "      <td>Nea Costel lansează un volum de poezie sub pse...</td>\n",
       "      <td>Încurajat de popularitatea neașteptată din ult...</td>\n",
       "      <td>nene costel lansa volum poezie pseudonim bețiv...</td>\n",
       "      <td>Încurajat, popularitatea, neașteptată, ultima,...</td>\n",
       "      <td>FAKE</td>\n",
       "    </tr>\n",
       "    <tr>\n",
       "      <th>3</th>\n",
       "      <td>https://www.timesnewroman.ro/life-death/dumini...</td>\n",
       "      <td>Duminica Verde la Patriarhie. Azi în cutia mil...</td>\n",
       "      <td>BOR se alătură demersulului Ministerului Mediu...</td>\n",
       "      <td>duminică verde patriarhie cutie milă sine pute...</td>\n",
       "      <td>alătură, demersulului, ministerului, mediului,...</td>\n",
       "      <td>FAKE</td>\n",
       "    </tr>\n",
       "    <tr>\n",
       "      <th>4</th>\n",
       "      <td>https://www.timesnewroman.ro/it-stiinta/alerta...</td>\n",
       "      <td>Alertă de vreme severă! Un nor tocmai ne-a pus...</td>\n",
       "      <td>ANM avertizează: urmează vreme severă în toată...</td>\n",
       "      <td>alertă sever nor pune scoate foaie hârtie ANM ...</td>\n",
       "      <td>avertizează, urmează, vreme, severă, toată, ţa...</td>\n",
       "      <td>FAKE</td>\n",
       "    </tr>\n",
       "  </tbody>\n",
       "</table>\n",
       "</div>"
      ],
      "text/plain": [
       "                                                 url  \\\n",
       "0  https://www.timesnewroman.ro/life-death/au-inc...   \n",
       "1  https://www.timesnewroman.ro/monden/canibalii-...   \n",
       "2  https://www.timesnewroman.ro/monden/nea-costel...   \n",
       "3  https://www.timesnewroman.ro/life-death/dumini...   \n",
       "4  https://www.timesnewroman.ro/it-stiinta/alerta...   \n",
       "\n",
       "                                               title  \\\n",
       "0  Au început programările la vaccinare. 10 probl...   \n",
       "1  Canibalii misogini din Mediaş susţin că locul ...   \n",
       "2  Nea Costel lansează un volum de poezie sub pse...   \n",
       "3  Duminica Verde la Patriarhie. Azi în cutia mil...   \n",
       "4  Alertă de vreme severă! Un nor tocmai ne-a pus...   \n",
       "\n",
       "                                                body  \\\n",
       "0  • Pentru că programările se fac în ordinea alf...   \n",
       "1  Scandal în Mediaș, după ce un respectat caniba...   \n",
       "2  Încurajat de popularitatea neașteptată din ult...   \n",
       "3  BOR se alătură demersulului Ministerului Mediu...   \n",
       "4  ANM avertizează: urmează vreme severă în toată...   \n",
       "\n",
       "                                   preprocessed body  \\\n",
       "0  începe programare vaccinare problemă din prima...   \n",
       "1  canibal misogin mediaș susține loc femeie crat...   \n",
       "2  nene costel lansa volum poezie pseudonim bețiv...   \n",
       "3  duminică verde patriarhie cutie milă sine pute...   \n",
       "4  alertă sever nor pune scoate foaie hârtie ANM ...   \n",
       "\n",
       "                                            keywords authenticity  \n",
       "0  pentru, programările, ordinea, alfabetică, jud...         FAKE  \n",
       "1  scandal, mediaș, după, respectat, canibal, loc...         FAKE  \n",
       "2  Încurajat, popularitatea, neașteptată, ultima,...         FAKE  \n",
       "3  alătură, demersulului, ministerului, mediului,...         FAKE  \n",
       "4  avertizează, urmează, vreme, severă, toată, ţa...         FAKE  "
      ]
     },
     "execution_count": 53,
     "metadata": {},
     "output_type": "execute_result"
    }
   ],
   "source": [
    "df.head()"
   ]
  },
  {
   "cell_type": "code",
   "execution_count": 54,
   "metadata": {},
   "outputs": [
    {
     "data": {
      "text/html": [
       "<div>\n",
       "<style scoped>\n",
       "    .dataframe tbody tr th:only-of-type {\n",
       "        vertical-align: middle;\n",
       "    }\n",
       "\n",
       "    .dataframe tbody tr th {\n",
       "        vertical-align: top;\n",
       "    }\n",
       "\n",
       "    .dataframe thead th {\n",
       "        text-align: right;\n",
       "    }\n",
       "</style>\n",
       "<table border=\"1\" class=\"dataframe\">\n",
       "  <thead>\n",
       "    <tr style=\"text-align: right;\">\n",
       "      <th></th>\n",
       "      <th>url</th>\n",
       "      <th>title</th>\n",
       "      <th>body</th>\n",
       "      <th>preprocessed body</th>\n",
       "      <th>keywords</th>\n",
       "      <th>authenticity</th>\n",
       "    </tr>\n",
       "  </thead>\n",
       "  <tbody>\n",
       "    <tr>\n",
       "      <th>1422</th>\n",
       "      <td>https://www.digi24.ro/stiri/actualitate/65-de-...</td>\n",
       "      <td>65 de morți din cauza coronavirusului în România</td>\n",
       "      <td>Au fost raportate încă 13 decese ale unor pers...</td>\n",
       "      <td>angela Merkel an primi vineri doză vaccin prod...</td>\n",
       "      <td>suceava,coronavirus,covid-19</td>\n",
       "      <td>TRUE</td>\n",
       "    </tr>\n",
       "    <tr>\n",
       "      <th>1423</th>\n",
       "      <td>https://www.digi24.ro/stiri/externe/certificat...</td>\n",
       "      <td>Certificatul de vaccinare cu AstraZeneca al ca...</td>\n",
       "      <td>Angela Merkel, în vârstă de 66 de ani, a primi...</td>\n",
       "      <td>Ford motor anunța serie închidere fabricilor d...</td>\n",
       "      <td>Angela Merkel,vaccin astrazeneca,cancelarul ge...</td>\n",
       "      <td>TRUE</td>\n",
       "    </tr>\n",
       "    <tr>\n",
       "      <th>1424</th>\n",
       "      <td>https://www.digi24.ro/stiri/sci-tech/auto/ford...</td>\n",
       "      <td>Ford închide temporar șase fabrici din SUA și ...</td>\n",
       "      <td>Ford Motor a anunţat o nouă serie de închideri...</td>\n",
       "      <td>ultim oră caz prezent românia confirmat caz pe...</td>\n",
       "      <td>ford,pandemie coronavirus,semiconductori,criza...</td>\n",
       "      <td>TRUE</td>\n",
       "    </tr>\n",
       "    <tr>\n",
       "      <th>1425</th>\n",
       "      <td>https://www.digi24.ro/stiri/crestere-de-30-a-i...</td>\n",
       "      <td>Creștere de 30% a infectărilor cu coronavirus ...</td>\n",
       "      <td>În ultimele 24 de ore au fost 1.059 de cazuri ...</td>\n",
       "      <td>echipă feminin handbal CSM bucurești rata cali...</td>\n",
       "      <td>terapie intensiva,coronavirus,coronavirus roma...</td>\n",
       "      <td>TRUE</td>\n",
       "    </tr>\n",
       "    <tr>\n",
       "      <th>1426</th>\n",
       "      <td>https://www.digi24.ro/stiri/sport/csm-bucurest...</td>\n",
       "      <td>CSM Bucureşti a ratat dramatic calificarea la ...</td>\n",
       "      <td>Echipa feminină de handbal CSM București a rat...</td>\n",
       "      <td>NaN</td>\n",
       "      <td>Liga Campionilor,semifinale,CSM Bucureşti,fina...</td>\n",
       "      <td>TRUE</td>\n",
       "    </tr>\n",
       "  </tbody>\n",
       "</table>\n",
       "</div>"
      ],
      "text/plain": [
       "                                                    url  \\\n",
       "1422  https://www.digi24.ro/stiri/actualitate/65-de-...   \n",
       "1423  https://www.digi24.ro/stiri/externe/certificat...   \n",
       "1424  https://www.digi24.ro/stiri/sci-tech/auto/ford...   \n",
       "1425  https://www.digi24.ro/stiri/crestere-de-30-a-i...   \n",
       "1426  https://www.digi24.ro/stiri/sport/csm-bucurest...   \n",
       "\n",
       "                                                  title  \\\n",
       "1422   65 de morți din cauza coronavirusului în România   \n",
       "1423  Certificatul de vaccinare cu AstraZeneca al ca...   \n",
       "1424  Ford închide temporar șase fabrici din SUA și ...   \n",
       "1425  Creștere de 30% a infectărilor cu coronavirus ...   \n",
       "1426  CSM Bucureşti a ratat dramatic calificarea la ...   \n",
       "\n",
       "                                                   body  \\\n",
       "1422  Au fost raportate încă 13 decese ale unor pers...   \n",
       "1423  Angela Merkel, în vârstă de 66 de ani, a primi...   \n",
       "1424  Ford Motor a anunţat o nouă serie de închideri...   \n",
       "1425  În ultimele 24 de ore au fost 1.059 de cazuri ...   \n",
       "1426  Echipa feminină de handbal CSM București a rat...   \n",
       "\n",
       "                                      preprocessed body  \\\n",
       "1422  angela Merkel an primi vineri doză vaccin prod...   \n",
       "1423  Ford motor anunța serie închidere fabricilor d...   \n",
       "1424  ultim oră caz prezent românia confirmat caz pe...   \n",
       "1425  echipă feminin handbal CSM bucurești rata cali...   \n",
       "1426                                                NaN   \n",
       "\n",
       "                                               keywords authenticity  \n",
       "1422                       suceava,coronavirus,covid-19         TRUE  \n",
       "1423  Angela Merkel,vaccin astrazeneca,cancelarul ge...         TRUE  \n",
       "1424  ford,pandemie coronavirus,semiconductori,criza...         TRUE  \n",
       "1425  terapie intensiva,coronavirus,coronavirus roma...         TRUE  \n",
       "1426  Liga Campionilor,semifinale,CSM Bucureşti,fina...         TRUE  "
      ]
     },
     "execution_count": 54,
     "metadata": {},
     "output_type": "execute_result"
    }
   ],
   "source": [
    "df.tail()"
   ]
  },
  {
   "cell_type": "markdown",
   "metadata": {},
   "source": [
    "# The distribution of the articles"
   ]
  },
  {
   "cell_type": "code",
   "execution_count": 55,
   "metadata": {},
   "outputs": [],
   "source": [
    "true_vals = [x for x in df['authenticity'] if x == 'TRUE']\n",
    "fake_vals = [x for x in df['authenticity'] if x == 'FAKE']"
   ]
  },
  {
   "cell_type": "code",
   "execution_count": 56,
   "metadata": {},
   "outputs": [
    {
     "data": {
      "image/png": "[encoded data removed]",
      "text/plain": [
       "<Figure size 432x288 with 1 Axes>"
      ]
     },
     "metadata": {
      "needs_background": "light"
     },
     "output_type": "display_data"
    }
   ],
   "source": [
    "plt.bar(true_vals,len(true_vals))\n",
    "plt.bar(fake_vals,len(fake_vals))\n",
    "plt.show()"
   ]
  },
  {
   "cell_type": "markdown",
   "metadata": {},
   "source": [
    "# Isolating the article labels"
   ]
  },
  {
   "cell_type": "code",
   "execution_count": 57,
   "metadata": {},
   "outputs": [
    {
     "data": {
      "text/plain": [
       "0    FAKE\n",
       "1    FAKE\n",
       "2    FAKE\n",
       "3    FAKE\n",
       "4    FAKE\n",
       "Name: authenticity, dtype: object"
      ]
     },
     "execution_count": 57,
     "metadata": {},
     "output_type": "execute_result"
    }
   ],
   "source": [
    "labels = df.authenticity\n",
    "labels.head()"
   ]
  },
  {
   "cell_type": "markdown",
   "metadata": {},
   "source": [
    "# Split the dataset"
   ]
  },
  {
   "cell_type": "code",
   "execution_count": 58,
   "metadata": {},
   "outputs": [
    {
     "name": "stdout",
     "output_type": "stream",
     "text": [
      "Index(['url', 'title', 'body', 'preprocessed body', 'keywords',\n",
      "       'authenticity'],\n",
      "      dtype='object')\n"
     ]
    }
   ],
   "source": [
    "print(df.columns)"
   ]
  },
  {
   "cell_type": "code",
   "execution_count": 59,
   "metadata": {},
   "outputs": [],
   "source": [
    "x_train,x_test,y_train,y_test=train_test_split(df['preprocessed body'].values.astype('str'), labels, test_size=0.2, random_state=7,shuffle=True)"
   ]
  },
  {
   "cell_type": "markdown",
   "metadata": {},
   "source": [
    "# TF IDF  "
   ]
  },
  {
   "cell_type": "code",
   "execution_count": 81,
   "metadata": {},
   "outputs": [],
   "source": [
    "tfidf_vectorizer=TfidfVectorizer( max_df=0.7)\n",
    "tfidf_train=tfidf_vectorizer.fit_transform(x_train) \n",
    "tfidf_test=tfidf_vectorizer.transform(x_test)"
   ]
  },
  {
   "cell_type": "markdown",
   "metadata": {},
   "source": [
    "# Passive Agressive Classifier"
   ]
  },
  {
   "cell_type": "code",
   "execution_count": 86,
   "metadata": {},
   "outputs": [
    {
     "data": {
      "text/plain": [
       "PassiveAggressiveClassifier(max_iter=50)"
      ]
     },
     "execution_count": 86,
     "metadata": {},
     "output_type": "execute_result"
    }
   ],
   "source": [
    "pa_classifier=PassiveAggressiveClassifier(max_iter=50)\n",
    "pa_classifier.fit(tfidf_train,y_train)"
   ]
  },
  {
   "cell_type": "code",
   "execution_count": 87,
   "metadata": {},
   "outputs": [
    {
     "name": "stdout",
     "output_type": "stream",
     "text": [
      "Accuracy: 96.5%\n"
     ]
    }
   ],
   "source": [
    "y_pred=pa_classifier.predict(tfidf_test)\n",
    "score=accuracy_score(y_test,y_pred)\n",
    "print(f'Accuracy: {round(score*100,2)}%')"
   ]
  },
  {
   "cell_type": "code",
   "execution_count": 88,
   "metadata": {},
   "outputs": [],
   "source": [
    "cm = confusion_matrix(y_test,y_pred, labels=['FAKE','TRUE'])"
   ]
  },
  {
   "cell_type": "code",
   "execution_count": 89,
   "metadata": {},
   "outputs": [
    {
     "data": {
      "text/plain": [
       "<sklearn.metrics._plot.confusion_matrix.ConfusionMatrixDisplay at 0x7f0020f59820>"
      ]
     },
     "execution_count": 89,
     "metadata": {},
     "output_type": "execute_result"
    },
    {
     "data": {
      "image/png": "[encoded data removed]",
      "text/plain": [
       "<Figure size 432x288 with 2 Axes>"
      ]
     },
     "metadata": {
      "needs_background": "light"
     },
     "output_type": "display_data"
    }
   ],
   "source": [
    "ConfusionMatrixDisplay(cm,display_labels=pa_classifier.classes_).plot()"
   ]
  },
  {
   "cell_type": "markdown",
   "metadata": {},
   "source": [
    "# Gaussian Naive Bayes "
   ]
  },
  {
   "cell_type": "code",
   "execution_count": 90,
   "metadata": {},
   "outputs": [
    {
     "data": {
      "text/plain": [
       "GaussianNB()"
      ]
     },
     "execution_count": 90,
     "metadata": {},
     "output_type": "execute_result"
    }
   ],
   "source": [
    "nb_classifier=GaussianNB()\n",
    "nb_classifier.fit(tfidf_train.toarray(),y_train)"
   ]
  },
  {
   "cell_type": "code",
   "execution_count": 91,
   "metadata": {},
   "outputs": [
    {
     "name": "stdout",
     "output_type": "stream",
     "text": [
      "Accuracy: 92.66%\n"
     ]
    }
   ],
   "source": [
    "y_pred=nb_classifier.predict(tfidf_test.toarray())\n",
    "score=accuracy_score(y_test,y_pred)\n",
    "print(f'Accuracy: {round(score*100,2)}%')"
   ]
  },
  {
   "cell_type": "code",
   "execution_count": 92,
   "metadata": {},
   "outputs": [],
   "source": [
    "cm = confusion_matrix(y_test,y_pred, labels=['FAKE','TRUE'])"
   ]
  },
  {
   "cell_type": "code",
   "execution_count": 93,
   "metadata": {},
   "outputs": [
    {
     "data": {
      "text/plain": [
       "<sklearn.metrics._plot.confusion_matrix.ConfusionMatrixDisplay at 0x7f0020f86460>"
      ]
     },
     "execution_count": 93,
     "metadata": {},
     "output_type": "execute_result"
    },
    {
     "data": {
      "image/png": "[encoded data removed]",
      "text/plain": [
       "<Figure size 432x288 with 2 Axes>"
      ]
     },
     "metadata": {
      "needs_background": "light"
     },
     "output_type": "display_data"
    }
   ],
   "source": [
    "ConfusionMatrixDisplay(cm,display_labels=nb_classifier.classes_).plot()"
   ]
  },
  {
   "cell_type": "markdown",
   "metadata": {},
   "source": [
    "# Decision trees"
   ]
  },
  {
   "cell_type": "code",
   "execution_count": 94,
   "metadata": {},
   "outputs": [
    {
     "data": {
      "text/plain": [
       "DecisionTreeClassifier()"
      ]
     },
     "execution_count": 94,
     "metadata": {},
     "output_type": "execute_result"
    }
   ],
   "source": [
    "tree_classifier=tree.DecisionTreeClassifier()\n",
    "tree_classifier.fit(tfidf_train.toarray(),y_train)"
   ]
  },
  {
   "cell_type": "code",
   "execution_count": 95,
   "metadata": {},
   "outputs": [
    {
     "name": "stdout",
     "output_type": "stream",
     "text": [
      "Accuracy: 93.01%\n"
     ]
    }
   ],
   "source": [
    "y_pred=tree_classifier.predict(tfidf_test.toarray())\n",
    "score=accuracy_score(y_test,y_pred)\n",
    "print(f'Accuracy: {round(score*100,2)}%')"
   ]
  },
  {
   "cell_type": "code",
   "execution_count": 96,
   "metadata": {},
   "outputs": [],
   "source": [
    "cm = confusion_matrix(y_test,y_pred, labels=['FAKE','TRUE'])"
   ]
  },
  {
   "cell_type": "code",
   "execution_count": 97,
   "metadata": {},
   "outputs": [
    {
     "data": {
      "text/plain": [
       "<sklearn.metrics._plot.confusion_matrix.ConfusionMatrixDisplay at 0x7f00ac7986a0>"
      ]
     },
     "execution_count": 97,
     "metadata": {},
     "output_type": "execute_result"
    },
    {
     "data": {
      "image/png": "[encoded data removed]",
      "text/plain": [
       "<Figure size 432x288 with 2 Axes>"
      ]
     },
     "metadata": {
      "needs_background": "light"
     },
     "output_type": "display_data"
    }
   ],
   "source": [
    "ConfusionMatrixDisplay(cm,display_labels=tree_classifier.classes_).plot()"
   ]
  },
  {
   "cell_type": "markdown",
   "metadata": {},
   "source": [
    "# Logistic Regression"
   ]
  },
  {
   "cell_type": "code",
   "execution_count": 98,
   "metadata": {},
   "outputs": [
    {
     "data": {
      "text/plain": [
       "PassiveAggressiveClassifier(random_state=0)"
      ]
     },
     "execution_count": 98,
     "metadata": {},
     "output_type": "execute_result"
    }
   ],
   "source": [
    "lr_classifier=PassiveAggressiveClassifier(random_state=0)\n",
    "lr_classifier.fit(tfidf_train,y_train)"
   ]
  },
  {
   "cell_type": "code",
   "execution_count": 99,
   "metadata": {},
   "outputs": [
    {
     "name": "stdout",
     "output_type": "stream",
     "text": [
      "Accuracy: 96.15%\n"
     ]
    }
   ],
   "source": [
    "y_pred=lr_classifier.predict(tfidf_test)\n",
    "score=accuracy_score(y_test,y_pred)\n",
    "print(f'Accuracy: {round(score*100,2)}%')"
   ]
  },
  {
   "cell_type": "code",
   "execution_count": 100,
   "metadata": {},
   "outputs": [],
   "source": [
    "cm = confusion_matrix(y_test,y_pred, labels=['FAKE','TRUE'])"
   ]
  },
  {
   "cell_type": "code",
   "execution_count": 101,
   "metadata": {},
   "outputs": [
    {
     "data": {
      "text/plain": [
       "<sklearn.metrics._plot.confusion_matrix.ConfusionMatrixDisplay at 0x7f00ac945a30>"
      ]
     },
     "execution_count": 101,
     "metadata": {},
     "output_type": "execute_result"
    },
    {
     "data": {
      "image/png": "[encoded data removed]",
      "text/plain": [
       "<Figure size 432x288 with 2 Axes>"
      ]
     },
     "metadata": {
      "needs_background": "light"
     },
     "output_type": "display_data"
    }
   ],
   "source": [
    "ConfusionMatrixDisplay(cm,display_labels=lr_classifier.classes_).plot()"
   ]
  },
  {
   "cell_type": "code",
   "execution_count": null,
   "metadata": {},
   "outputs": [],
   "source": []
  }
 ],
 "metadata": {
  "kernelspec": {
   "display_name": "Python 3",
   "language": "python",
   "name": "python3"
  },
  "language_info": {
   "codemirror_mode": {
    "name": "ipython",
    "version": 3
   },
   "file_extension": ".py",
   "mimetype": "text/x-python",
   "name": "python",
   "nbconvert_exporter": "python",
   "pygments_lexer": "ipython3",
   "version": "3.6.8"
  }
 },
 "nbformat": 4,
 "nbformat_minor": 4
}
