{
 "cells": [
  {
   "cell_type": "markdown",
   "metadata": {},
   "source": [
    "# Importing the modules"
   ]
  },
  {
   "cell_type": "code",
   "execution_count": 1,
   "metadata": {},
   "outputs": [],
   "source": [
    "import itertools\n",
    "import pandas as pd\n",
    "import numpy as np\n",
    "from sklearn.naive_bayes import GaussianNB\n",
    "from sklearn import tree\n",
    "from sklearn.linear_model import LogisticRegression\n",
    "from sklearn.linear_model import PassiveAggressiveClassifier\n",
    "from sklearn.model_selection import train_test_split\n",
    "from sklearn.feature_extraction.text import TfidfVectorizer\n",
    "from sklearn.metrics import accuracy_score,ConfusionMatrixDisplay\n",
    "from sklearn.metrics import confusion_matrix,plot_confusion_matrix\n",
    "import matplotlib.pyplot as plt"
   ]
  },
  {
   "cell_type": "markdown",
   "metadata": {},
   "source": [
    "# Loading the data"
   ]
  },
  {
   "cell_type": "code",
   "execution_count": 2,
   "metadata": {},
   "outputs": [],
   "source": [
    "df=pd.read_csv('./corpus_complet.tsv',delimiter='\\t')"
   ]
  },
  {
   "cell_type": "code",
   "execution_count": 3,
   "metadata": {},
   "outputs": [
    {
     "data": {
      "text/plain": [
       "(1158, 6)"
      ]
     },
     "execution_count": 3,
     "metadata": {},
     "output_type": "execute_result"
    }
   ],
   "source": [
    "df.shape"
   ]
  },
  {
   "cell_type": "code",
   "execution_count": 4,
   "metadata": {},
   "outputs": [
    {
     "data": {
      "text/html": [
       "<div>\n",
       "<style scoped>\n",
       "    .dataframe tbody tr th:only-of-type {\n",
       "        vertical-align: middle;\n",
       "    }\n",
       "\n",
       "    .dataframe tbody tr th {\n",
       "        vertical-align: top;\n",
       "    }\n",
       "\n",
       "    .dataframe thead th {\n",
       "        text-align: right;\n",
       "    }\n",
       "</style>\n",
       "<table border=\"1\" class=\"dataframe\">\n",
       "  <thead>\n",
       "    <tr style=\"text-align: right;\">\n",
       "      <th></th>\n",
       "      <th>url</th>\n",
       "      <th>title</th>\n",
       "      <th>body</th>\n",
       "      <th>preprocessed body</th>\n",
       "      <th>keywords</th>\n",
       "      <th>authenticity</th>\n",
       "    </tr>\n",
       "  </thead>\n",
       "  <tbody>\n",
       "    <tr>\n",
       "      <th>0</th>\n",
       "      <td>https://www.timesnewroman.ro/life-death/au-inc...</td>\n",
       "      <td>Au început programările la vaccinare. 10 probl...</td>\n",
       "      <td>• Pentru că programările se fac în ordinea alf...</td>\n",
       "      <td>începe programare vaccinare problemă din prima...</td>\n",
       "      <td>pentru, programările, ordinea, alfabetică, jud...</td>\n",
       "      <td>FAKE</td>\n",
       "    </tr>\n",
       "    <tr>\n",
       "      <th>1</th>\n",
       "      <td>https://www.timesnewroman.ro/monden/canibalii-...</td>\n",
       "      <td>Canibalii misogini din Mediaş susţin că locul ...</td>\n",
       "      <td>Scandal în Mediaș, după ce un respectat caniba...</td>\n",
       "      <td>canibal misogin mediaș susține loc femeie crat...</td>\n",
       "      <td>scandal, mediaș, după, respectat, canibal, loc...</td>\n",
       "      <td>FAKE</td>\n",
       "    </tr>\n",
       "    <tr>\n",
       "      <th>2</th>\n",
       "      <td>https://www.timesnewroman.ro/monden/nea-costel...</td>\n",
       "      <td>Nea Costel lansează un volum de poezie sub pse...</td>\n",
       "      <td>Încurajat de popularitatea neașteptată din ult...</td>\n",
       "      <td>nene costel lansa volum poezie pseudonim bețiv...</td>\n",
       "      <td>Încurajat, popularitatea, neașteptată, ultima,...</td>\n",
       "      <td>FAKE</td>\n",
       "    </tr>\n",
       "    <tr>\n",
       "      <th>3</th>\n",
       "      <td>https://www.timesnewroman.ro/life-death/dumini...</td>\n",
       "      <td>Duminica Verde la Patriarhie. Azi în cutia mil...</td>\n",
       "      <td>BOR se alătură demersulului Ministerului Mediu...</td>\n",
       "      <td>duminică verde patriarhie cutie milă sine pute...</td>\n",
       "      <td>alătură, demersulului, ministerului, mediului,...</td>\n",
       "      <td>FAKE</td>\n",
       "    </tr>\n",
       "    <tr>\n",
       "      <th>4</th>\n",
       "      <td>https://www.timesnewroman.ro/it-stiinta/alerta...</td>\n",
       "      <td>Alertă de vreme severă! Un nor tocmai ne-a pus...</td>\n",
       "      <td>ANM avertizează: urmează vreme severă în toată...</td>\n",
       "      <td>alertă sever nor pune scoate foaie hârtie ANM ...</td>\n",
       "      <td>avertizează, urmează, vreme, severă, toată, ţa...</td>\n",
       "      <td>FAKE</td>\n",
       "    </tr>\n",
       "  </tbody>\n",
       "</table>\n",
       "</div>"
      ],
      "text/plain": [
       "                                                 url  \\\n",
       "0  https://www.timesnewroman.ro/life-death/au-inc...   \n",
       "1  https://www.timesnewroman.ro/monden/canibalii-...   \n",
       "2  https://www.timesnewroman.ro/monden/nea-costel...   \n",
       "3  https://www.timesnewroman.ro/life-death/dumini...   \n",
       "4  https://www.timesnewroman.ro/it-stiinta/alerta...   \n",
       "\n",
       "                                               title  \\\n",
       "0  Au început programările la vaccinare. 10 probl...   \n",
       "1  Canibalii misogini din Mediaş susţin că locul ...   \n",
       "2  Nea Costel lansează un volum de poezie sub pse...   \n",
       "3  Duminica Verde la Patriarhie. Azi în cutia mil...   \n",
       "4  Alertă de vreme severă! Un nor tocmai ne-a pus...   \n",
       "\n",
       "                                                body  \\\n",
       "0  • Pentru că programările se fac în ordinea alf...   \n",
       "1  Scandal în Mediaș, după ce un respectat caniba...   \n",
       "2  Încurajat de popularitatea neașteptată din ult...   \n",
       "3  BOR se alătură demersulului Ministerului Mediu...   \n",
       "4  ANM avertizează: urmează vreme severă în toată...   \n",
       "\n",
       "                                   preprocessed body  \\\n",
       "0  începe programare vaccinare problemă din prima...   \n",
       "1  canibal misogin mediaș susține loc femeie crat...   \n",
       "2  nene costel lansa volum poezie pseudonim bețiv...   \n",
       "3  duminică verde patriarhie cutie milă sine pute...   \n",
       "4  alertă sever nor pune scoate foaie hârtie ANM ...   \n",
       "\n",
       "                                            keywords authenticity  \n",
       "0  pentru, programările, ordinea, alfabetică, jud...         FAKE  \n",
       "1  scandal, mediaș, după, respectat, canibal, loc...         FAKE  \n",
       "2  Încurajat, popularitatea, neașteptată, ultima,...         FAKE  \n",
       "3  alătură, demersulului, ministerului, mediului,...         FAKE  \n",
       "4  avertizează, urmează, vreme, severă, toată, ţa...         FAKE  "
      ]
     },
     "execution_count": 4,
     "metadata": {},
     "output_type": "execute_result"
    }
   ],
   "source": [
    "df.head()"
   ]
  },
  {
   "cell_type": "code",
   "execution_count": 5,
   "metadata": {},
   "outputs": [
    {
     "data": {
      "text/html": [
       "<div>\n",
       "<style scoped>\n",
       "    .dataframe tbody tr th:only-of-type {\n",
       "        vertical-align: middle;\n",
       "    }\n",
       "\n",
       "    .dataframe tbody tr th {\n",
       "        vertical-align: top;\n",
       "    }\n",
       "\n",
       "    .dataframe thead th {\n",
       "        text-align: right;\n",
       "    }\n",
       "</style>\n",
       "<table border=\"1\" class=\"dataframe\">\n",
       "  <thead>\n",
       "    <tr style=\"text-align: right;\">\n",
       "      <th></th>\n",
       "      <th>url</th>\n",
       "      <th>title</th>\n",
       "      <th>body</th>\n",
       "      <th>preprocessed body</th>\n",
       "      <th>keywords</th>\n",
       "      <th>authenticity</th>\n",
       "    </tr>\n",
       "  </thead>\n",
       "  <tbody>\n",
       "    <tr>\n",
       "      <th>1153</th>\n",
       "      <td>https://www.digi24.ro/stiri/actualitate/stenog...</td>\n",
       "      <td>Stenograme din fabrica de permise de la Suceav...</td>\n",
       "      <td>Examenele pentru obținerea permiselor auro au ...</td>\n",
       "      <td>românia ajunge caz număr persoană terapie inte...</td>\n",
       "      <td>stenograme,permise auto ilegale,frauda examen ...</td>\n",
       "      <td>TRUE</td>\n",
       "    </tr>\n",
       "    <tr>\n",
       "      <th>1154</th>\n",
       "      <td>https://www.digi24.ro/stiri/actualitate/sanata...</td>\n",
       "      <td>Alexandru Rafila, despre vaccinul AstraZeneca:...</td>\n",
       "      <td>Deputatul PSD Alexandru Rafila, reprezentantul...</td>\n",
       "      <td>minister cultură arăta ban film colectiv după ...</td>\n",
       "      <td>campanie de vaccinare,alexandru rafila,vaccin ...</td>\n",
       "      <td>TRUE</td>\n",
       "    </tr>\n",
       "    <tr>\n",
       "      <th>1155</th>\n",
       "      <td>https://www.digi24.ro/sanatate-digimatinal/reg...</td>\n",
       "      <td>Regulile după care se face trierea pacienților...</td>\n",
       "      <td>Responsabilitatea este cuvântul de ordine în a...</td>\n",
       "      <td>video ambulanță transporta gravidă an sine răs...</td>\n",
       "      <td>dr cristian pandrea</td>\n",
       "      <td>TRUE</td>\n",
       "    </tr>\n",
       "    <tr>\n",
       "      <th>1156</th>\n",
       "      <td>https://www.digi24.ro/magazin/timp-liber/film/...</td>\n",
       "      <td>Cum arată după 50 de ani actorii din „Love Sto...</td>\n",
       "      <td>Cea mai frumoasă și mai tristă poveste de drag...</td>\n",
       "      <td>scădere infectare coronavirus caz test efectua...</td>\n",
       "      <td>hollywood,love story,Bulevardul Celebritatilor...</td>\n",
       "      <td>TRUE</td>\n",
       "    </tr>\n",
       "    <tr>\n",
       "      <th>1157</th>\n",
       "      <td>https://www.digi24.ro/stiri/actualitate/cat-de...</td>\n",
       "      <td>Cât de mult a afectat ultimul an copiii? Repre...</td>\n",
       "      <td>Pandemia de Covid a afectat serios viața copii...</td>\n",
       "      <td>crește din nou număr caz ultim oră muri român ...</td>\n",
       "      <td>unicef,educatie copii,pandemia de coronavirus,...</td>\n",
       "      <td>TRUE</td>\n",
       "    </tr>\n",
       "  </tbody>\n",
       "</table>\n",
       "</div>"
      ],
      "text/plain": [
       "                                                    url  \\\n",
       "1153  https://www.digi24.ro/stiri/actualitate/stenog...   \n",
       "1154  https://www.digi24.ro/stiri/actualitate/sanata...   \n",
       "1155  https://www.digi24.ro/sanatate-digimatinal/reg...   \n",
       "1156  https://www.digi24.ro/magazin/timp-liber/film/...   \n",
       "1157  https://www.digi24.ro/stiri/actualitate/cat-de...   \n",
       "\n",
       "                                                  title  \\\n",
       "1153  Stenograme din fabrica de permise de la Suceav...   \n",
       "1154  Alexandru Rafila, despre vaccinul AstraZeneca:...   \n",
       "1155  Regulile după care se face trierea pacienților...   \n",
       "1156  Cum arată după 50 de ani actorii din „Love Sto...   \n",
       "1157  Cât de mult a afectat ultimul an copiii? Repre...   \n",
       "\n",
       "                                                   body  \\\n",
       "1153  Examenele pentru obținerea permiselor auro au ...   \n",
       "1154  Deputatul PSD Alexandru Rafila, reprezentantul...   \n",
       "1155  Responsabilitatea este cuvântul de ordine în a...   \n",
       "1156  Cea mai frumoasă și mai tristă poveste de drag...   \n",
       "1157  Pandemia de Covid a afectat serios viața copii...   \n",
       "\n",
       "                                      preprocessed body  \\\n",
       "1153  românia ajunge caz număr persoană terapie inte...   \n",
       "1154  minister cultură arăta ban film colectiv după ...   \n",
       "1155  video ambulanță transporta gravidă an sine răs...   \n",
       "1156  scădere infectare coronavirus caz test efectua...   \n",
       "1157  crește din nou număr caz ultim oră muri român ...   \n",
       "\n",
       "                                               keywords authenticity  \n",
       "1153  stenograme,permise auto ilegale,frauda examen ...         TRUE  \n",
       "1154  campanie de vaccinare,alexandru rafila,vaccin ...         TRUE  \n",
       "1155                                dr cristian pandrea         TRUE  \n",
       "1156  hollywood,love story,Bulevardul Celebritatilor...         TRUE  \n",
       "1157  unicef,educatie copii,pandemia de coronavirus,...         TRUE  "
      ]
     },
     "execution_count": 5,
     "metadata": {},
     "output_type": "execute_result"
    }
   ],
   "source": [
    "df.tail()"
   ]
  },
  {
   "cell_type": "markdown",
   "metadata": {},
   "source": [
    "# The distribution of the articles"
   ]
  },
  {
   "cell_type": "code",
   "execution_count": 6,
   "metadata": {},
   "outputs": [],
   "source": [
    "true_vals = [x for x in df['authenticity'] if x == 'TRUE']\n",
    "fake_vals = [x for x in df['authenticity'] if x == 'FAKE']"
   ]
  },
  {
   "cell_type": "code",
   "execution_count": 7,
   "metadata": {},
   "outputs": [
    {
     "data": {
      "image/png": "[encoded data removed]",
      "text/plain": [
       "<Figure size 432x288 with 1 Axes>"
      ]
     },
     "metadata": {
      "needs_background": "light"
     },
     "output_type": "display_data"
    }
   ],
   "source": [
    "plt.bar(true_vals,len(true_vals))\n",
    "plt.bar(fake_vals,len(fake_vals))\n",
    "plt.show()"
   ]
  },
  {
   "cell_type": "markdown",
   "metadata": {},
   "source": [
    "# Isolating the article labels"
   ]
  },
  {
   "cell_type": "code",
   "execution_count": 8,
   "metadata": {},
   "outputs": [
    {
     "data": {
      "text/plain": [
       "0    FAKE\n",
       "1    FAKE\n",
       "2    FAKE\n",
       "3    FAKE\n",
       "4    FAKE\n",
       "Name: authenticity, dtype: object"
      ]
     },
     "execution_count": 8,
     "metadata": {},
     "output_type": "execute_result"
    }
   ],
   "source": [
    "labels = df.authenticity\n",
    "labels.head()"
   ]
  },
  {
   "cell_type": "markdown",
   "metadata": {},
   "source": [
    "# Split the dataset"
   ]
  },
  {
   "cell_type": "code",
   "execution_count": 9,
   "metadata": {},
   "outputs": [
    {
     "name": "stdout",
     "output_type": "stream",
     "text": [
      "Index(['url', 'title', 'body', 'preprocessed body', 'keywords',\n",
      "       'authenticity'],\n",
      "      dtype='object')\n"
     ]
    }
   ],
   "source": [
    "print(df.columns)"
   ]
  },
  {
   "cell_type": "code",
   "execution_count": 10,
   "metadata": {},
   "outputs": [],
   "source": [
    "x_train,x_test,y_train,y_test=train_test_split(df['preprocessed body'].values.astype('str'), labels, test_size=0.2, random_state=7,shuffle=True)"
   ]
  },
  {
   "cell_type": "markdown",
   "metadata": {},
   "source": [
    "# Initializing a TF IDF matrix "
   ]
  },
  {
   "cell_type": "code",
   "execution_count": 11,
   "metadata": {},
   "outputs": [],
   "source": [
    "tfidf_vectorizer=TfidfVectorizer( max_df=0.7)"
   ]
  },
  {
   "cell_type": "markdown",
   "metadata": {},
   "source": [
    "# Initializing the datasets"
   ]
  },
  {
   "cell_type": "code",
   "execution_count": 12,
   "metadata": {},
   "outputs": [],
   "source": [
    "tfidf_train=tfidf_vectorizer.fit_transform(x_train) \n",
    "tfidf_test=tfidf_vectorizer.transform(x_test)"
   ]
  },
  {
   "cell_type": "markdown",
   "metadata": {},
   "source": [
    "# Passive Agressive Classifier"
   ]
  },
  {
   "cell_type": "code",
   "execution_count": 13,
   "metadata": {},
   "outputs": [
    {
     "data": {
      "text/plain": [
       "PassiveAggressiveClassifier(max_iter=50)"
      ]
     },
     "execution_count": 13,
     "metadata": {},
     "output_type": "execute_result"
    }
   ],
   "source": [
    "pa_classifier=PassiveAggressiveClassifier(max_iter=50)\n",
    "pa_classifier.fit(tfidf_train,y_train)"
   ]
  },
  {
   "cell_type": "code",
   "execution_count": 14,
   "metadata": {},
   "outputs": [
    {
     "name": "stdout",
     "output_type": "stream",
     "text": [
      "Accuracy: 96.12%\n"
     ]
    }
   ],
   "source": [
    "y_pred=pa_classifier.predict(tfidf_test)\n",
    "score=accuracy_score(y_test,y_pred)\n",
    "print(f'Accuracy: {round(score*100,2)}%')"
   ]
  },
  {
   "cell_type": "code",
   "execution_count": 15,
   "metadata": {},
   "outputs": [],
   "source": [
    "cm = confusion_matrix(y_test,y_pred, labels=['FAKE','TRUE'])"
   ]
  },
  {
   "cell_type": "code",
   "execution_count": 16,
   "metadata": {},
   "outputs": [
    {
     "data": {
      "text/plain": [
       "<sklearn.metrics._plot.confusion_matrix.ConfusionMatrixDisplay at 0x7f6d63d44af0>"
      ]
     },
     "execution_count": 16,
     "metadata": {},
     "output_type": "execute_result"
    },
    {
     "data": {
      "image/png": "[encoded data removed]",
      "text/plain": [
       "<Figure size 432x288 with 2 Axes>"
      ]
     },
     "metadata": {
      "needs_background": "light"
     },
     "output_type": "display_data"
    }
   ],
   "source": [
    "ConfusionMatrixDisplay(cm,display_labels=pa_classifier.classes_).plot()"
   ]
  },
  {
   "cell_type": "markdown",
   "metadata": {},
   "source": [
    "# Gaussian Naive Bayes "
   ]
  },
  {
   "cell_type": "code",
   "execution_count": 17,
   "metadata": {},
   "outputs": [
    {
     "data": {
      "text/plain": [
       "GaussianNB()"
      ]
     },
     "execution_count": 17,
     "metadata": {},
     "output_type": "execute_result"
    }
   ],
   "source": [
    "nb_classifier=GaussianNB()\n",
    "nb_classifier.fit(tfidf_train.toarray(),y_train)"
   ]
  },
  {
   "cell_type": "code",
   "execution_count": 18,
   "metadata": {},
   "outputs": [
    {
     "name": "stdout",
     "output_type": "stream",
     "text": [
      "Accuracy: 90.09%\n"
     ]
    }
   ],
   "source": [
    "y_pred=nb_classifier.predict(tfidf_test.toarray())\n",
    "score=accuracy_score(y_test,y_pred)\n",
    "print(f'Accuracy: {round(score*100,2)}%')"
   ]
  },
  {
   "cell_type": "code",
   "execution_count": 19,
   "metadata": {},
   "outputs": [],
   "source": [
    "cm = confusion_matrix(y_test,y_pred, labels=['FAKE','TRUE'])"
   ]
  },
  {
   "cell_type": "code",
   "execution_count": 20,
   "metadata": {},
   "outputs": [
    {
     "data": {
      "text/plain": [
       "<sklearn.metrics._plot.confusion_matrix.ConfusionMatrixDisplay at 0x7f6d63c4a0d0>"
      ]
     },
     "execution_count": 20,
     "metadata": {},
     "output_type": "execute_result"
    },
    {
     "data": {
      "image/png": "[encoded data removed]",
      "text/plain": [
       "<Figure size 432x288 with 2 Axes>"
      ]
     },
     "metadata": {
      "needs_background": "light"
     },
     "output_type": "display_data"
    }
   ],
   "source": [
    "ConfusionMatrixDisplay(cm,display_labels=nb_classifier.classes_).plot()"
   ]
  },
  {
   "cell_type": "markdown",
   "metadata": {},
   "source": [
    "# Decision trees"
   ]
  },
  {
   "cell_type": "code",
   "execution_count": 21,
   "metadata": {},
   "outputs": [
    {
     "data": {
      "text/plain": [
       "DecisionTreeClassifier()"
      ]
     },
     "execution_count": 21,
     "metadata": {},
     "output_type": "execute_result"
    }
   ],
   "source": [
    "tree_classifier=tree.DecisionTreeClassifier()\n",
    "tree_classifier.fit(tfidf_train.toarray(),y_train)"
   ]
  },
  {
   "cell_type": "code",
   "execution_count": 22,
   "metadata": {},
   "outputs": [
    {
     "name": "stdout",
     "output_type": "stream",
     "text": [
      "Accuracy: 95.26%\n"
     ]
    }
   ],
   "source": [
    "y_pred=tree_classifier.predict(tfidf_test.toarray())\n",
    "score=accuracy_score(y_test,y_pred)\n",
    "print(f'Accuracy: {round(score*100,2)}%')"
   ]
  },
  {
   "cell_type": "code",
   "execution_count": 23,
   "metadata": {},
   "outputs": [],
   "source": [
    "cm = confusion_matrix(y_test,y_pred, labels=['FAKE','TRUE'])"
   ]
  },
  {
   "cell_type": "code",
   "execution_count": 24,
   "metadata": {},
   "outputs": [
    {
     "data": {
      "text/plain": [
       "<sklearn.metrics._plot.confusion_matrix.ConfusionMatrixDisplay at 0x7f6d63c33550>"
      ]
     },
     "execution_count": 24,
     "metadata": {},
     "output_type": "execute_result"
    },
    {
     "data": {
      "image/png": "[encoded data removed]",
      "text/plain": [
       "<Figure size 432x288 with 2 Axes>"
      ]
     },
     "metadata": {
      "needs_background": "light"
     },
     "output_type": "display_data"
    }
   ],
   "source": [
    "ConfusionMatrixDisplay(cm,display_labels=tree_classifier.classes_).plot()"
   ]
  },
  {
   "cell_type": "markdown",
   "metadata": {},
   "source": [
    "# Logistic Regression"
   ]
  },
  {
   "cell_type": "code",
   "execution_count": 25,
   "metadata": {},
   "outputs": [
    {
     "data": {
      "text/plain": [
       "PassiveAggressiveClassifier(random_state=0)"
      ]
     },
     "execution_count": 25,
     "metadata": {},
     "output_type": "execute_result"
    }
   ],
   "source": [
    "lr_classifier=PassiveAggressiveClassifier(random_state=0)\n",
    "lr_classifier.fit(tfidf_train,y_train)"
   ]
  },
  {
   "cell_type": "code",
   "execution_count": 26,
   "metadata": {},
   "outputs": [
    {
     "name": "stdout",
     "output_type": "stream",
     "text": [
      "Accuracy: 96.98%\n"
     ]
    }
   ],
   "source": [
    "y_pred=lr_classifier.predict(tfidf_test)\n",
    "score=accuracy_score(y_test,y_pred)\n",
    "print(f'Accuracy: {round(score*100,2)}%')"
   ]
  },
  {
   "cell_type": "code",
   "execution_count": 27,
   "metadata": {},
   "outputs": [],
   "source": [
    "cm = confusion_matrix(y_test,y_pred, labels=['FAKE','TRUE'])"
   ]
  },
  {
   "cell_type": "code",
   "execution_count": 28,
   "metadata": {},
   "outputs": [
    {
     "data": {
      "text/plain": [
       "<sklearn.metrics._plot.confusion_matrix.ConfusionMatrixDisplay at 0x7f6d63c02760>"
      ]
     },
     "execution_count": 28,
     "metadata": {},
     "output_type": "execute_result"
    },
    {
     "data": {
      "image/png": "[encoded data removed]",
      "text/plain": [
       "<Figure size 432x288 with 2 Axes>"
      ]
     },
     "metadata": {
      "needs_background": "light"
     },
     "output_type": "display_data"
    }
   ],
   "source": [
    "ConfusionMatrixDisplay(cm,display_labels=lr_classifier.classes_).plot()"
   ]
  }
 ],
 "metadata": {
  "kernelspec": {
   "display_name": "Python 3",
   "language": "python",
   "name": "python3"
  },
  "language_info": {
   "codemirror_mode": {
    "name": "ipython",
    "version": 3
   },
   "file_extension": ".py",
   "mimetype": "text/x-python",
   "name": "python",
   "nbconvert_exporter": "python",
   "pygments_lexer": "ipython3",
   "version": "3.9.2"
  }
 },
 "nbformat": 4,
 "nbformat_minor": 4
}
