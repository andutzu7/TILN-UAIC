{
 "cells": [
  {
   "cell_type": "raw",
   "id": "yellow-sword",
   "metadata": {},
   "source": [
    "import os\n",
    "import json\n",
    "import nltk\n",
    "from nltk.corpus import stopwords\n",
    "stopwerdz = []\n",
    "count = 0\n",
    "with open('stopwords.txt',mode = 'r') as stopwerds:\n",
    "    while 1:\n",
    "        werd = stopwerds.readline()\n",
    "        werd = werd.strip('\\n')\n",
    "        stopwerdz.append(werd)\n",
    "        count = count + 1\n",
    "        if count > 433:\n",
    "            break\n",
    "        "
   ]
  },
  {
   "cell_type": "code",
   "execution_count": 2,
   "id": "duplicate-compression",
   "metadata": {
    "tags": []
   },
   "outputs": [],
   "source": [
    "with open('wdsl.txt',mode='r',encoding = 'utf-8') as f:\n",
    "    count = 0\n",
    "    rows = 0\n",
    "    sentences = {}\n",
    "    sentence = []\n",
    "    while 1:\n",
    "        word = f.readline()\n",
    "        rows = rows + 1\n",
    "        if word != '🤩\\n':\n",
    "            word = word.replace('\\n',' ')\n",
    "            word = word.replace('\\t','')\n",
    "            sentence.append(word)\n",
    "            if word=='endend':\n",
    "                break\n",
    "        else:\n",
    "            sentences[count]=sentence\n",
    "            sentence=[]\n",
    "            count = count+1\n",
    "            "
   ]
  },
  {
   "cell_type": "code",
   "execution_count": null,
   "id": "stupid-nurse",
   "metadata": {},
   "outputs": [],
   "source": [
    "sentences"
   ]
  },
  {
   "cell_type": "code",
   "execution_count": null,
   "id": "first-gothic",
   "metadata": {},
   "outputs": [],
   "source": [
    "stopwerdz"
   ]
  },
  {
   "cell_type": "code",
   "execution_count": 5,
   "id": "received-personality",
   "metadata": {},
   "outputs": [],
   "source": [
    "stw = stopwords.words('romanian')\n",
    "stw.extend(stopwerdz)"
   ]
  },
  {
   "cell_type": "code",
   "execution_count": 6,
   "id": "peripheral-associate",
   "metadata": {},
   "outputs": [],
   "source": [
    "filtered_sentences={}\n",
    "for key in sentences.keys():  \n",
    "    filtered_sentence=[]\n",
    "    for w in sentences[key]:\n",
    "        filtered_word=''\n",
    "        for letter in w:\n",
    "            if (letter.isalpha()):\n",
    "                filtered_word+=letter\n",
    "            else:\n",
    "                if(letter == '~'):\n",
    "                    filtered_word+=' '\n",
    "        if filtered_word not in stw and filtered_word != '' and len(filtered_word) >= 2: \n",
    "            filtered_sentence.append(filtered_word) \n",
    "    filtered_sentences[key]=filtered_sentence"
   ]
  },
  {
   "cell_type": "code",
   "execution_count": null,
   "id": "unlimited-string",
   "metadata": {},
   "outputs": [],
   "source": [
    "filtered_sentences"
   ]
  },
  {
   "cell_type": "code",
   "execution_count": 8,
   "id": "neutral-understanding",
   "metadata": {},
   "outputs": [],
   "source": [
    "def convert_to_string(werds):\n",
    "    return ' '.join(werds)"
   ]
  },
  {
   "cell_type": "code",
   "execution_count": null,
   "id": "greater-sperm",
   "metadata": {},
   "outputs": [],
   "source": [
    "for key in filtered_sentences.keys():\n",
    "    filtered_sentences[key]=convert_to_string(filtered_sentences[key])"
   ]
  },
  {
   "cell_type": "code",
   "execution_count": 10,
   "id": "complimentary-break",
   "metadata": {},
   "outputs": [
    {
     "name": "stdout",
     "output_type": "stream",
     "text": [
      "ministru educație sorin câmpeanu spune Digi rezultat simulare evaluare național surprinzător arăta sine mobiliza elev clasă opta examen deși acuză legat\n"
     ]
    }
   ],
   "source": [
    "print(filtered_sentences[0])\n"
   ]
  },
  {
   "cell_type": "code",
   "execution_count": 11,
   "id": "about-ambassador",
   "metadata": {},
   "outputs": [],
   "source": [
    "import csv\n",
    "with open('filtered_output2', 'w') as csv_file:  \n",
    "    writer = csv.writer(csv_file,delimiter='\\t')\n",
    "    for key, value in filtered_sentences.items():\n",
    "       writer.writerow([value])"
   ]
  }
 ],
 "metadata": {
  "kernelspec": {
   "display_name": "Python 3",
   "language": "python",
   "name": "python3"
  },
  "language_info": {
   "codemirror_mode": {
    "name": "ipython",
    "version": 3
   },
   "file_extension": ".py",
   "mimetype": "text/x-python",
   "name": "python",
   "nbconvert_exporter": "python",
   "pygments_lexer": "ipython3",
   "version": "3.9.2"
  }
 },
 "nbformat": 4,
 "nbformat_minor": 5
}
